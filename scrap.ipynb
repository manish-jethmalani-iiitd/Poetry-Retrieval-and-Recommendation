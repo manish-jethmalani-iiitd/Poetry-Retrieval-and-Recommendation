{
 "cells": [
  {
   "cell_type": "markdown",
   "metadata": {},
   "source": [
    "# This  file does the work of scrapping the data from mention website rekhta.org and stores each poem as a text file in folder \"Poems\""
   ]
  },
  {
   "cell_type": "code",
   "execution_count": 1,
   "metadata": {},
   "outputs": [],
   "source": [
    "from bs4 import BeautifulSoup\n",
    "from urllib.request import Request, urlopen\n",
    "import requests\n",
    "import unidecode\n",
    "import os"
   ]
  },
  {
   "cell_type": "code",
   "execution_count": 3,
   "metadata": {},
   "outputs": [
    {
     "data": {
      "text/plain": [
       "'c:\\\\Users\\\\Anup Jha\\\\Desktop\\\\IR Project\\\\Poems'"
      ]
     },
     "execution_count": 3,
     "metadata": {},
     "output_type": "execute_result"
    }
   ],
   "source": [
    "output_path = os.getcwd()+\"\\\\Poems\"\n",
    "output_path"
   ]
  },
  {
   "cell_type": "code",
   "execution_count": 54,
   "metadata": {},
   "outputs": [],
   "source": [
    "req = Request(\"https://www.rekhta.org/poets/top-read-poets\")\n",
    "html_page = urlopen(req)\n",
    "\n",
    "soup = BeautifulSoup(html_page, \"html.parser\")\n",
    "\n",
    "links = []\n",
    "for link in soup.findAll(\"div\", class_=\"poetListImg\"):\n",
    "    links.append(link.a.get('href'))"
   ]
  },
  {
   "cell_type": "code",
   "execution_count": 3,
   "metadata": {},
   "outputs": [
    {
     "data": {
      "text/plain": [
       "['https://www.rekhta.org//poets/adil-mansuri',\n",
       " 'https://www.rekhta.org//poets/ahmad-faraz',\n",
       " 'https://www.rekhta.org//poets/ahmad-mushtaq',\n",
       " 'https://www.rekhta.org//poets/ahmad-nadeem-qasmi',\n",
       " 'https://www.rekhta.org//poets/aitbar-sajid',\n",
       " 'https://www.rekhta.org//poets/akbar-allahabadi',\n",
       " 'https://www.rekhta.org//poets/akhtarul-iman',\n",
       " 'https://www.rekhta.org//poets/ali-sardar-jafri',\n",
       " 'https://www.rekhta.org//poets/allama-iqbal',\n",
       " 'https://www.rekhta.org//poets/ameer-minai',\n",
       " 'https://www.rekhta.org//poets/asrarul-haq-majaz',\n",
       " 'https://www.rekhta.org//poets/bahadur-shah-zafar',\n",
       " 'https://www.rekhta.org//poets/bashar-nawaz',\n",
       " 'https://www.rekhta.org//poets/faiz-ahmad-faiz',\n",
       " 'https://www.rekhta.org//poets/firaq-gorakhpuri',\n",
       " 'https://www.rekhta.org//poets/gulzar',\n",
       " 'https://www.rekhta.org//poets/hasrat-mohani',\n",
       " 'https://www.rekhta.org//poets/jaun-eliya',\n",
       " 'https://www.rekhta.org//poets/jigar-moradabadi',\n",
       " 'https://www.rekhta.org//poets/kaifi-azmi',\n",
       " 'https://www.rekhta.org//poets/khumar-barabankavi',\n",
       " 'https://www.rekhta.org//poets/majrooh-sultanpuri',\n",
       " 'https://www.rekhta.org//poets/meer-taqi-meer',\n",
       " 'https://www.rekhta.org//poets/mirza-ghalib',\n",
       " 'https://www.rekhta.org//poets/momin-khan-momin',\n",
       " 'https://www.rekhta.org//poets/munawwar-rana',\n",
       " 'https://www.rekhta.org//poets/muneer-niyazi',\n",
       " 'https://www.rekhta.org//poets/nasir-kazmi',\n",
       " 'https://www.rekhta.org//poets/nida-fazli',\n",
       " 'https://www.rekhta.org//poets/noon-meem-rashid',\n",
       " 'https://www.rekhta.org//poets/parveen-shakir',\n",
       " 'https://www.rekhta.org//poets/pirzada-qasim',\n",
       " 'https://www.rekhta.org//poets/qateel-shifai',\n",
       " 'https://www.rekhta.org//poets/rahat-indori',\n",
       " 'https://www.rekhta.org//poets/sahir-ludhianvi',\n",
       " 'https://www.rekhta.org//poets/saleem-kausar',\n",
       " 'https://www.rekhta.org//poets/sauda-mohammad-rafi',\n",
       " 'https://www.rekhta.org//poets/shad-azimabadi',\n",
       " 'https://www.rekhta.org//poets/shahryar',\n",
       " 'https://www.rekhta.org//poets/shakeel-badayuni-3',\n",
       " 'https://www.rekhta.org//poets/waseem-barelvi',\n",
       " 'https://www.rekhta.org//poets/zafar-iqbal']"
      ]
     },
     "execution_count": 3,
     "metadata": {},
     "output_type": "execute_result"
    }
   ],
   "source": [
    "links"
   ]
  },
  {
   "cell_type": "code",
   "execution_count": 64,
   "metadata": {},
   "outputs": [
    {
     "data": {
      "text/plain": [
       "['https://www.rekhta.org//poets/zafar-iqbal']"
      ]
     },
     "execution_count": 64,
     "metadata": {},
     "output_type": "execute_result"
    }
   ],
   "source": [
    "links[-1:]"
   ]
  },
  {
   "cell_type": "code",
   "execution_count": 65,
   "metadata": {},
   "outputs": [],
   "source": [
    "def getname(link):\n",
    "    name = link.split(\"/\")[-1]\n",
    "    name  = name.replace(\"-\",\" \")\n",
    "    return name"
   ]
  },
  {
   "cell_type": "code",
   "execution_count": 68,
   "metadata": {},
   "outputs": [],
   "source": [
    "def get_poem_name(href):\n",
    "    n =  href.split(\"/\")[-1].lower()\n",
    "    n =  n[:-20]\n",
    "    n = n.replace(\"-\", \" \")\n",
    "    return n"
   ]
  },
  {
   "cell_type": "code",
   "execution_count": 76,
   "metadata": {},
   "outputs": [],
   "source": [
    "for lk in links: #loop for each poet\n",
    "    name  =  getname(lk)\n",
    "    req2 = Request(lk + \"/ghazals\")\n",
    "    html_page2 = urlopen(req2) \n",
    "\n",
    "    soup2 = BeautifulSoup(html_page2, \"html.parser\")\n",
    "    # print(soup2)\n",
    "    div1 = soup2.findAll(\"div\", class_=\"rt_bodyTitle\")\n",
    "    for d in div1: #for each ghazal\n",
    "\n",
    "        href1 = d.findAll(\"a\")[1].get(\"href\")\n",
    "        ghazal_name = get_poem_name(href1)\n",
    "        page = requests.get(href1)\n",
    "        allContent = \"\"\n",
    "        soup = BeautifulSoup(page.content, \"html.parser\")\n",
    "        job_elements = soup.find_all(\"div\", class_=\"c\")\n",
    "        for job_element in job_elements:\n",
    "            # print(job_element)\n",
    "            for x in job_element:\n",
    "                for y in x:\n",
    "                    text1 = x.text\n",
    "                    allContent = allContent+ text1 + \" \\n\"\n",
    "                    \n",
    "                    # print(text1)\n",
    "                    break\n",
    "\n",
    "        allContent = unidecode.unidecode(allContent).lower() #removing  accents/ nukhta swar\n",
    "        with open(output_path+\"//\"+ghazal_name+\"_\"+name+\".txt\", \"w\") as f:\n",
    "            f.write(allContent)\n",
    "        # print(allContent)"
   ]
  }
 ],
 "metadata": {
  "interpreter": {
   "hash": "ecf5722fdaf1897a315d257d89d94520bfcaa453217d5becf09b39e73618b0de"
  },
  "kernelspec": {
   "display_name": "Python 3.9.7 ('base')",
   "language": "python",
   "name": "python3"
  },
  "language_info": {
   "codemirror_mode": {
    "name": "ipython",
    "version": 3
   },
   "file_extension": ".py",
   "mimetype": "text/x-python",
   "name": "python",
   "nbconvert_exporter": "python",
   "pygments_lexer": "ipython3",
   "version": "3.9.6"
  },
  "orig_nbformat": 4
 },
 "nbformat": 4,
 "nbformat_minor": 2
}
